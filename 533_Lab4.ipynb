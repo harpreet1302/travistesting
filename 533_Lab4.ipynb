{
 "cells": [
  {
   "cell_type": "code",
   "execution_count": 1,
   "metadata": {
    "collapsed": false
   },
   "outputs": [
    {
     "name": "stdout",
     "output_type": "stream",
     "text": [
      "Empty DataFrame\n",
      "Columns: [eno, ename, age, salary]\n",
      "Index: []\n"
     ]
    }
   ],
   "source": [
    "# import package in steps and initialize a data frame \"df\"\n",
    "\n",
    "import pandas as pd\n",
    "import pkg.modify.apnd as p1\n",
    "import pkg.modify.dlt as p2\n",
    "import pkg.query.dob as p3\n",
    "import pkg.query.qry as p4\n",
    "\n",
    "df = pd.DataFrame(columns=[\"eno\",\"ename\",\"age\",\"salary\"])\n",
    "print(df)"
   ]
  },
  {
   "cell_type": "code",
   "execution_count": 2,
   "metadata": {
    "collapsed": false
   },
   "outputs": [
    {
     "name": "stdout",
     "output_type": "stream",
     "text": [
      "[['1265', 'John', 23, 50000], ['4598', 'Sara', 45, 85000], ['2360', 'Bob', 65, 120000], ['1839', 'Julia', 21, 55000], ['7632', 'Mike', 52, 150000]]\n"
     ]
    }
   ],
   "source": [
    "# Input the list of employee number, employee names, age and salary into a list called data\n",
    "data = [[\"1265\",\"John\",23,50000],[\"4598\",\"Sara\",45,85000],[\"2360\",\"Bob\",65,120000],[\"1839\",\"Julia\",21,55000],[\"7632\",\"Mike\",52,150000]]\n",
    "print(data)"
   ]
  },
  {
   "cell_type": "code",
   "execution_count": 3,
   "metadata": {
    "collapsed": false
   },
   "outputs": [
    {
     "name": "stdout",
     "output_type": "stream",
     "text": [
      "    eno  ename   age    salary\n",
      "0  1265   John  23.0   50000.0\n",
      "1  4598   Sara  45.0   85000.0\n",
      "2  2360    Bob  65.0  120000.0\n",
      "3  1839  Julia  21.0   55000.0\n",
      "4  7632   Mike  52.0  150000.0\n"
     ]
    }
   ],
   "source": [
    "# Run the addat function to append the list of data into the data frame.\n",
    "\n",
    "df = p1.addat(df,data)\n",
    "print(df[[\"eno\",\"ename\",\"age\",\"salary\"]])\n"
   ]
  },
  {
   "cell_type": "code",
   "execution_count": 4,
   "metadata": {
    "collapsed": false
   },
   "outputs": [
    {
     "name": "stdout",
     "output_type": "stream",
     "text": [
      "Employee exists\n",
      "    eno ename   age    salary\n",
      "0  1265  John  23.0   50000.0\n",
      "1  4598  Sara  45.0   85000.0\n",
      "2  2360   Bob  65.0  120000.0\n",
      "3  7632  Mike  52.0  150000.0\n"
     ]
    }
   ],
   "source": [
    "# Execute the deldat funtion to delete a particular row based on employee number.\n",
    "\n",
    "data = \"1839\"\n",
    "\n",
    "df = p2.deldat(df,data)\n",
    "print(df[[\"eno\",\"ename\",\"age\",\"salary\"]])"
   ]
  },
  {
   "cell_type": "code",
   "execution_count": 5,
   "metadata": {
    "collapsed": false
   },
   "outputs": [
    {
     "name": "stdout",
     "output_type": "stream",
     "text": [
      "Employee No: 2360\n",
      "Date of Birth: 08/18/1996\n"
     ]
    }
   ],
   "source": [
    "# Employ function dob to execute an inheretence module by assigning the date of birth to an employee number.\n",
    "\n",
    "empl = p3.dob(\"2360\",\"08/18/1996\")\n",
    "empl.display()"
   ]
  },
  {
   "cell_type": "code",
   "execution_count": 6,
   "metadata": {
    "collapsed": false
   },
   "outputs": [
    {
     "name": "stdout",
     "output_type": "stream",
     "text": [
      "Data Frame has 4 employee records\n",
      "Enter the lower limit on age:25\n",
      "Enter the upper limit on age:65\n",
      "Enter the lower limit on salary:45000\n",
      "Enter the upper limit on salary:120000\n",
      "\n",
      "Employees matching entered criteria:\n",
      "\n"
     ]
    },
    {
     "data": {
      "text/html": [
       "<div>\n",
       "<table border=\"1\" class=\"dataframe\">\n",
       "  <thead>\n",
       "    <tr style=\"text-align: right;\">\n",
       "      <th></th>\n",
       "      <th>eno</th>\n",
       "      <th>ename</th>\n",
       "      <th>age</th>\n",
       "      <th>salary</th>\n",
       "    </tr>\n",
       "  </thead>\n",
       "  <tbody>\n",
       "    <tr>\n",
       "      <th>1</th>\n",
       "      <td>4598</td>\n",
       "      <td>Sara</td>\n",
       "      <td>45.0</td>\n",
       "      <td>85000.0</td>\n",
       "    </tr>\n",
       "  </tbody>\n",
       "</table>\n",
       "</div>"
      ],
      "text/plain": [
       "    eno ename   age   salary\n",
       "1  4598  Sara  45.0  85000.0"
      ]
     },
     "execution_count": 6,
     "metadata": {},
     "output_type": "execute_result"
    }
   ],
   "source": [
    "# Use count function to eastablish number of records and run the fltr function based on the following criteria : \n",
    "# Enter upper and lower limits on age of employee followed by upper and lower limits on salary.\n",
    "\n",
    "\n",
    "print(\"Data Frame has {} employee records\".format(p4.count(df)))\n",
    "\n",
    "agel = raw_input(\"Enter the lower limit on age:\")\n",
    "ageu = raw_input(\"Enter the upper limit on age:\")\n",
    "sall = raw_input(\"Enter the lower limit on salary:\")\n",
    "salu = raw_input(\"Enter the upper limit on salary:\")\n",
    "\n",
    "print(\"\")\n",
    "print(\"Employees matching entered criteria:\")\n",
    "print(\"\")\n",
    "p4.fltr(df,agel,ageu,sall,salu)\n"
   ]
  },
  {
   "cell_type": "code",
   "execution_count": null,
   "metadata": {
    "collapsed": true
   },
   "outputs": [],
   "source": []
  }
 ],
 "metadata": {
  "anaconda-cloud": {},
  "kernelspec": {
   "display_name": "Python [default]",
   "language": "python",
   "name": "python2"
  },
  "language_info": {
   "codemirror_mode": {
    "name": "ipython",
    "version": 2
   },
   "file_extension": ".py",
   "mimetype": "text/x-python",
   "name": "python",
   "nbconvert_exporter": "python",
   "pygments_lexer": "ipython2",
   "version": "2.7.12"
  }
 },
 "nbformat": 4,
 "nbformat_minor": 1
}
